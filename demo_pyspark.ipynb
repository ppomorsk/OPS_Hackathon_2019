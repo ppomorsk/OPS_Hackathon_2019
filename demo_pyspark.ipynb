{
 "cells": [
  {
   "cell_type": "code",
   "execution_count": 2,
   "metadata": {},
   "outputs": [],
   "source": [
    "from pyspark import SparkConf, SparkContext\n",
    "conf = (SparkConf()\n",
    "         .setMaster(\"local[32]\")\n",
    "         .setAppName(\"My app\")  \n",
    "         .set(\"spark.executor.memory\", \"1g\"))\n",
    "sc = SparkContext(conf = conf)"
   ]
  },
  {
   "cell_type": "code",
   "execution_count": 3,
   "metadata": {},
   "outputs": [
    {
     "data": {
      "text/plain": [
       "32"
      ]
     },
     "execution_count": 3,
     "metadata": {},
     "output_type": "execute_result"
    }
   ],
   "source": [
    "sc.defaultParallelism"
   ]
  },
  {
   "cell_type": "code",
   "execution_count": 4,
   "metadata": {},
   "outputs": [],
   "source": [
    "import pandas as pd\n",
    "df = pd.read_csv(\"elawsCorpus-output.csv\",encoding='latin-1')\n",
    "\n"
   ]
  },
  {
   "cell_type": "code",
   "execution_count": 5,
   "metadata": {},
   "outputs": [
    {
     "data": {
      "text/plain": [
       "DataFrame[Unnamed: 0: bigint, Text: string, hyperlink: string]"
      ]
     },
     "execution_count": 5,
     "metadata": {},
     "output_type": "execute_result"
    }
   ],
   "source": [
    "from pyspark.sql import SQLContext\n",
    "sqlCtx = SQLContext(sc)\n",
    "sdf = sqlCtx.createDataFrame(df)\n",
    "sdf.cache()"
   ]
  },
  {
   "cell_type": "code",
   "execution_count": 6,
   "metadata": {},
   "outputs": [],
   "source": [
    "import nltk\n",
    "def process_law_text(input_text):\n",
    "    text_law=input_text.replace(\"\\x92\",\"'\").replace(\"\\x96\",\"-\").replace('\\x93','\"').replace('\\x94','\"')\n",
    "    tokens = nltk.word_tokenize(text_law)\n",
    "    tokens_tagged = nltk.pos_tag(tokens)\n",
    "#    tokens_tagged_nouns = list( filter(lambda x: x[1][0]==\"N\" and x[1][1]==\"N\",tokens_tagged))\n",
    "#    nouns = list( map(lambda x: x[0], tokens_tagged_nouns) )\n",
    "    nouns = list( map(lambda x: x[0], tokens_tagged) )\n",
    "\n",
    "\n",
    "    nouns_lower= list(map(lambda x: x.lower(), nouns))\n",
    "    nouns_unique = list(set(nouns_lower))\n",
    "    nouns_unique.sort()\n",
    "    return nouns_unique"
   ]
  },
  {
   "cell_type": "code",
   "execution_count": 7,
   "metadata": {},
   "outputs": [
    {
     "name": "stdout",
     "output_type": "stream",
     "text": [
      "0.14745473861694336\n"
     ]
    }
   ],
   "source": [
    "ddf=sdf.rdd.map(lambda x: (x[0], process_law_text(x[1])))"
   ]
  },
  {
   "cell_type": "code",
   "execution_count": 8,
   "metadata": {},
   "outputs": [
    {
     "name": "stdout",
     "output_type": "stream",
     "text": [
      "65.15251660346985\n"
     ]
    }
   ],
   "source": [
    "noun_lists=ddf.collect()\n",
    "\n"
   ]
  },
  {
   "cell_type": "code",
   "execution_count": 10,
   "metadata": {},
   "outputs": [],
   "source": [
    "df1=pd.DataFrame(noun_lists,columns=[\"law\",\"noun_list\"])\n",
    "#df1"
   ]
  },
  {
   "cell_type": "code",
   "execution_count": 11,
   "metadata": {},
   "outputs": [],
   "source": [
    "df2 = pd.DataFrame(df1.noun_list.tolist(), index=df1.law)"
   ]
  },
  {
   "cell_type": "code",
   "execution_count": 12,
   "metadata": {},
   "outputs": [],
   "source": [
    "df3=df2.stack().reset_index(level=1, drop=True).reset_index().rename(columns={0:\"noun_list\"})\n",
    "df3[\"law\"]=df3[\"law\"].apply(lambda x: [x,])\n"
   ]
  },
  {
   "cell_type": "code",
   "execution_count": 13,
   "metadata": {},
   "outputs": [],
   "source": [
    "df4=df3.groupby(\"noun_list\").agg({\"law\":\"sum\"})"
   ]
  },
  {
   "cell_type": "code",
   "execution_count": 14,
   "metadata": {},
   "outputs": [],
   "source": [
    "#df4\n",
    "dfquery=df4.query('noun_list==\"fax\"')"
   ]
  },
  {
   "cell_type": "code",
   "execution_count": 15,
   "metadata": {},
   "outputs": [
    {
     "data": {
      "text/html": [
       "<div>\n",
       "<style>\n",
       "    .dataframe thead tr:only-child th {\n",
       "        text-align: right;\n",
       "    }\n",
       "\n",
       "    .dataframe thead th {\n",
       "        text-align: left;\n",
       "    }\n",
       "\n",
       "    .dataframe tbody tr th {\n",
       "        vertical-align: top;\n",
       "    }\n",
       "</style>\n",
       "<table border=\"1\" class=\"dataframe\">\n",
       "  <thead>\n",
       "    <tr style=\"text-align: right;\">\n",
       "      <th></th>\n",
       "      <th>law</th>\n",
       "    </tr>\n",
       "    <tr>\n",
       "      <th>noun_list</th>\n",
       "      <th></th>\n",
       "    </tr>\n",
       "  </thead>\n",
       "  <tbody>\n",
       "    <tr>\n",
       "      <th>fax</th>\n",
       "      <td>[3, 7, 26, 45, 61, 82, 88, 90, 91, 97, 98, 101...</td>\n",
       "    </tr>\n",
       "  </tbody>\n",
       "</table>\n",
       "</div>"
      ],
      "text/plain": [
       "                                                         law\n",
       "noun_list                                                   \n",
       "fax        [3, 7, 26, 45, 61, 82, 88, 90, 91, 97, 98, 101..."
      ]
     },
     "execution_count": 15,
     "metadata": {},
     "output_type": "execute_result"
    }
   ],
   "source": [
    "dfquery"
   ]
  },
  {
   "cell_type": "code",
   "execution_count": 16,
   "metadata": {},
   "outputs": [],
   "source": [
    "dfquery.to_csv('query.csv')"
   ]
  },
  {
   "cell_type": "code",
   "execution_count": 17,
   "metadata": {},
   "outputs": [
    {
     "name": "stdout",
     "output_type": "stream",
     "text": [
      "noun_list,law\n",
      "fax,\"[3, 7, 26, 45, 61, 82, 88, 90, 91, 97, 98, 101, 102, 116, 137, 147, 149, 161, 162, 184, 193, 199, 268, 293, 299, 304, 305, 317, 327, 347, 351, 352, 355, 363, 367, 369, 378, 393, 405, 414, 422, 471, 487, 571, 682]\"\n"
     ]
    }
   ],
   "source": [
    "cat query.csv"
   ]
  },
  {
   "cell_type": "code",
   "execution_count": 1,
   "metadata": {},
   "outputs": [
    {
     "ename": "NameError",
     "evalue": "name 'sc' is not defined",
     "output_type": "error",
     "traceback": [
      "\u001b[0;31m---------------------------------------------------------------------------\u001b[0m",
      "\u001b[0;31mNameError\u001b[0m                                 Traceback (most recent call last)",
      "\u001b[0;32m<ipython-input-1-8d3513b7698b>\u001b[0m in \u001b[0;36m<module>\u001b[0;34m()\u001b[0m\n\u001b[0;32m----> 1\u001b[0;31m \u001b[0msc\u001b[0m\u001b[0;34m.\u001b[0m\u001b[0mstop\u001b[0m\u001b[0;34m(\u001b[0m\u001b[0;34m)\u001b[0m\u001b[0;34m\u001b[0m\u001b[0;34m\u001b[0m\u001b[0m\n\u001b[0m",
      "\u001b[0;31mNameError\u001b[0m: name 'sc' is not defined"
     ]
    }
   ],
   "source": [
    "sc.stop()"
   ]
  },
  {
   "cell_type": "code",
   "execution_count": 23,
   "metadata": {},
   "outputs": [
    {
     "name": "stdout",
     "output_type": "stream",
     "text": [
      "Displaying 2 of 2 matches:\n",
      "address of the person ; ( f ) sent by fax to the last known fax number of the p\n",
      "; ( f ) sent by fax to the last known fax number of the person ; or ( g ) given\n"
     ]
    }
   ],
   "source": [
    "index=3-1\n",
    "text_law=df.iloc[index][1]\n",
    "tokens = nltk.word_tokenize(text_law)\n",
    "text=nltk.Text(tokens)\n",
    "text.concordance(\"fax\")"
   ]
  },
  {
   "cell_type": "code",
   "execution_count": 29,
   "metadata": {},
   "outputs": [
    {
     "name": "stdout",
     "output_type": "stream",
     "text": [
      "https://www.ontario.ca/laws/statute/10r11\n",
      "Displaying 2 of 2 matches:\n",
      "address of the person ; ( f ) sent by fax to the last known fax number of the p\n",
      "; ( f ) sent by fax to the last known fax number of the person ; or ( g ) given\n",
      "https://www.ontario.ca/laws/statute/90b16\n",
      "Displaying 6 of 6 matches:\n",
      "ethods of endorsing and issuing 273.2 Fax filing 273.2 Refusal to endorse if co\n",
      "orporation in default 273.3 Filing by fax 273.4 Electronic version prevails 273\n",
      "luding telephone calls , voice mail , fax , e-mail , an automated touch-tone te\n",
      "20 , Sched . 6 , s. 43 - not in force Fax filing 273.2 ( 1 ) Despite section 27\n",
      " . 6 , s. 43 - not in force Filing by fax 273.3 Despite any regulation made und\n",
      "s and other documents may be filed by fax only with the Directors consent . 20\n",
      "https://www.ontario.ca/laws/statute/90e06\n",
      "Displaying 4 of 4 matches:\n",
      " courier or similar delivery method , fax or e-mail , to a returning office in \n",
      " courier or similar delivery method , fax or e-mail , to the Chief Electoral Of\n",
      " courier or similar delivery method , fax or e-mail to a returning office in th\n",
      " courier or similar delivery method , fax or e-mail to the Chief Electoral Offi\n",
      "https://www.ontario.ca/laws/statute/94c11\n",
      "Displaying 1 of 1 matches:\n",
      "c. 7 , Sched . 7 , s. 53 . Receipt by fax , etc. , considered written notice ( \n",
      "https://www.ontario.ca/laws/statute/07t11\n",
      "Displaying 1 of 1 matches:\n",
      ", and the name , telephone number and fax number of the individual to contact a\n",
      "https://www.ontario.ca/laws/statute/95l01\n",
      "Displaying 4 of 4 matches:\n",
      "by mail ; ( b ) by courier ; ( c ) by fax ; ( d ) by email ; or ( e ) by any ot\n",
      "ending it to the Ministers office by fax or email ; ( d ) electronically filin\n",
      "( 1 ) ( c ) , on the day on which the fax or email is sent , subject to subsect\n",
      ", Sched . 2 , s. 17 . Same ( 3 ) If a fax , email or electronic filing is sent \n",
      "https://www.ontario.ca/laws/statute/90h08\n",
      "Displaying 12 of 12 matches:\n",
      "to the Ministry ; ( d ) it is sent by fax to the operator at the latest fax num\n",
      " by fax to the operator at the latest fax number provided by the operator to th\n",
      "erning the giving of notice by mail , fax or a means of transmission prescribed\n",
      "to the Ministry ; ( d ) it is sent by fax to the person at the latest fax numbe\n",
      "nt by fax to the person at the latest fax number provided by the person to the \n",
      "erning the giving of notice by mail , fax or a means of transmission prescribed\n",
      "of the Ministry ; ( b ) it is sent by fax to the person at the latest fax numbe\n",
      "nt by fax to the person at the latest fax number provided by the person to the \n",
      "it was mailed ; ( b ) notice given by fax shall be deemed to have been received\n",
      "of the Ministry ; ( b ) it is sent by fax to the person at the latest fax numbe\n",
      "nt by fax to the person at the latest fax number for the person provided by the\n",
      "it was mailed ; ( b ) notice given by fax shall be deemed to have been received\n",
      "https://www.ontario.ca/laws/statute/90p15\n",
      "Displaying 2 of 2 matches:\n",
      "n or served personally , by mail , by fax or other electronic transmission , or\n",
      "cument is mailed . 2 . In the case of fax or other electronic transmission , on\n",
      "https://www.ontario.ca/laws/statute/90e19\n",
      "Displaying 1 of 1 matches:\n",
      " ) , an address for service by mail , fax or such other means of service as the\n",
      "https://www.ontario.ca/laws/statute/98e15\n",
      "Displaying 3 of 3 matches:\n",
      "st address known to the Director , by fax or by any other form of electronic tr\n",
      " , electronic transmission ( 5 ) If a fax or any other form of electronic trans\n",
      "have been served on the day after the fax was sent or the other transmission wa\n",
      "https://www.ontario.ca/laws/statute/00e41\n",
      "Displaying 6 of 6 matches:\n",
      "eing sent to the Directors office by fax or email . 2009 , c. 9 , s. 1 . When \n",
      "( 3 ) ( c ) , on the day on which the fax or email is sent , subject to subsect\n",
      "ectors office is not closed , if the fax or email is sent , ( a ) on a day on \n",
      "he delivery to be verified ; ( d ) by fax or email if the person is equipped to\n",
      "the person is equipped to receive the fax or email ; ( e ) by a courier service\n",
      "on ( 6 ) , service of a document by a fax or email sent on a Saturday , Sunday \n",
      "https://www.ontario.ca/laws/statute/16r12\n",
      "Displaying 2 of 2 matches:\n",
      "t known email address ; ( f ) sent by fax to the persons last known fax number\n",
      "ent by fax to the persons last known fax number ; or ( g ) given by other mean\n",
      "https://www.ontario.ca/laws/statute/16w12\n",
      "Displaying 2 of 2 matches:\n",
      "t known email address ; ( f ) sent by fax to the persons last known fax number\n",
      "ent by fax to the persons last known fax number ; or ( g ) given by other mean\n",
      "https://www.ontario.ca/laws/statute/90a08\n",
      "Displaying 5 of 5 matches:\n",
      "( a ) by personal delivery ; ( b ) by fax at the last fax number appearing on t\n",
      "l delivery ; ( b ) by fax at the last fax number appearing on the Ministrys re\n",
      " 6 , Sched . 1 , s. 48 ( 2 ) . Same , fax , electronic mail ( 3 ) Service made \n",
      "electronic mail ( 3 ) Service made by fax or by electronic mail shall be deemed\n",
      "day the notice or document is sent by fax or electronic mail unless the person \n",
      "https://www.ontario.ca/laws/statute/90c24\n",
      "Displaying 4 of 4 matches:\n",
      "il address ( if any ) ; ( d ) sent by fax to the persons last known fax number\n",
      "ent by fax to the persons last known fax number ( if any ) ; or ( e ) served b\n",
      "n service effective : mail , email or fax ( 2 ) Subject to subsection ( 3 ) , (\n",
      "nding ; and ( b ) service by email or fax is effective on the day of sending un\n",
      "https://www.ontario.ca/laws/statute/96f31\n",
      "Displaying 3 of 3 matches:\n",
      "payors or recipients work address , fax number or e-mail address , if the pay\n",
      ", or location , 5. telephone number , fax number or e-mail address ; ( renseig\n",
      ", or location , 2. telephone number , fax number or e-mail address . ( renseig\n",
      "https://www.ontario.ca/laws/statute/00t16\n",
      "Displaying 3 of 3 matches:\n",
      "st address known to the director , by fax or by any other form of electronic tr\n",
      " , electronic transmission ( 5 ) If a fax or other form of electronic transmiss\n",
      "have been served on the day after the fax or other transmission was sent unless\n",
      "https://www.ontario.ca/laws/statute/90c38\n",
      "Displaying 4 of 4 matches:\n",
      "ementary letters patent 5.1 Filing by fax 5.2 Electronic version prevails 6 . P\n",
      "luding telephone calls , voice mail , fax , e-mail , automated touch-tone telep\n",
      " c. 20 , Sched . 7 , s. 9 ) Filing by fax 5.1 Despite any regulations made unde\n",
      "ments and information may be filed by fax only with the Directors consent . 20\n",
      "https://www.ontario.ca/laws/statute/90c40\n",
      "Displaying 1 of 1 matches:\n",
      ", and the name , telephone number and fax number of the individual to contact a\n",
      "https://www.ontario.ca/laws/statute/98c19\n",
      "Displaying 1 of 1 matches:\n",
      "or data , including telephone calls , fax , e-mail , automated touch-tone telep\n",
      "https://www.ontario.ca/laws/statute/90e02\n",
      "Displaying 1 of 1 matches:\n",
      "s sent . 2 . If the notice is sent by fax or another method of electronic trans\n",
      "https://www.ontario.ca/laws/statute/91r18\n",
      "Displaying 4 of 4 matches:\n",
      "ession Act may be given by mail or by fax . 2007 , c. 10 , Sched . M , s. 11 . \n",
      "11 . When notice or decision given by fax received ( 3 ) If a notice or decisio\n",
      " ) If a notice or decision is sent by fax to a person at the persons last know\n",
      "o a person at the persons last known fax number , there is a rebuttable presum\n",
      "https://www.ontario.ca/laws/statute/17s19\n",
      "Displaying 1 of 1 matches:\n",
      "repeatedly communicate by telephone , fax or electronic means with a protected \n",
      "https://www.ontario.ca/laws/statute/02s32\n",
      "Displaying 3 of 3 matches:\n",
      "by facsimile transmission to the last fax number appearing on the records of th\n",
      " ) . Same ( 3 ) If service is made by fax , the service shall be deemed to be m\n",
      " be made on the day after the day the fax is sent , unless the person on whom s\n",
      "https://www.ontario.ca/laws/statute/09a31\n",
      "Displaying 6 of 6 matches:\n",
      " an address for service by mail or by fax or by any other means of service that\n",
      "cords of the Ministry ; ( c ) sent by fax to the last fax number appearing on t\n",
      "istry ; ( c ) sent by fax to the last fax number appearing on the records of th\n",
      ". 2009 , c. 31 , s. 51 ( 2 ) . Same , fax ( 3 ) If service is made by fax , the\n",
      "ame , fax ( 3 ) If service is made by fax , the service is deemed to be made on\n",
      " be made on the day after the day the fax is sent , unless the person on whom s\n",
      "https://www.ontario.ca/laws/statute/05p28\n",
      "Displaying 1 of 1 matches:\n",
      "t to the Superintendent ; or ( c ) by fax of the document or by electronic mail\n",
      "https://www.ontario.ca/laws/statute/10e08\n",
      "Displaying 1 of 1 matches:\n",
      "livery , registered mail , courier or fax . 2010 , c. 8 , s. 21 ( 3 ) . When gi\n",
      "https://www.ontario.ca/laws/statute/06c22\n",
      "Displaying 4 of 4 matches:\n",
      " serving the document ; ( c ) sent by fax to the latest fax number for the pers\n",
      "ent ; ( c ) sent by fax to the latest fax number for the person to whom deliver\n",
      " ) . Same ( 3 ) If service is made by fax , the service shall be deemed to be m\n",
      " be made on the day after the day the fax is sent , unless the person on whom s\n",
      "https://www.ontario.ca/laws/statute/04p08\n",
      "Displaying 1 of 1 matches:\n",
      " or may be sent by ordinary mail , by fax , by courier or by electronic mail . \n",
      "https://www.ontario.ca/laws/statute/90p10\n",
      "Displaying 1 of 1 matches:\n",
      " Sched . E , s. 23 . Deemed receipt , fax and electronic transmission ( 5 ) Any\n",
      "https://www.ontario.ca/laws/statute/90l16\n",
      "Displaying 3 of 3 matches:\n",
      "luding telephone calls , voice mail , fax , e-mail , an automated touch-tone te\n",
      ". 20 , Sched . 6 , s. 122 . Filing by fax ( 2 ) Despite any regulation made und\n",
      "s and other documents may be filed by fax only with the Registrars consent . 2\n",
      "https://www.ontario.ca/laws/statute/90b17\n",
      "Displaying 5 of 5 matches:\n",
      "y be publicly available 9.3 Filing by fax 9.4 Electronic version prevails 9.5 I\n",
      "luding telephone calls , voice mail , fax , e-mail , an automated touch-tone te\n",
      "istrar . 1994 , c. 27 , s. 72 ( 8 ) . Fax delivery ( 5 ) Subject to the regulat\n",
      " . 6 , s. 56 - not in force Filing by fax 9.3 Despite any regulation made under\n",
      "tion 10.1 , documents may be filed by fax only with the Registrars consent . 2\n",
      "https://www.ontario.ca/laws/statute/90e27\n",
      "Displaying 4 of 4 matches:\n",
      "tronic version prevails 5.2 Filing by fax 6 . Where endorsement refused 7 . Dir\n",
      "luding telephone calls , voice mail , fax , e-mail , an automated touch-tone te\n",
      " . 6 , s. 93 - not in force Filing by fax 5.2 Despite any regulation made under\n",
      "s and other documents may be filed by fax only with the Directors consent . 20\n",
      "https://www.ontario.ca/laws/statute/90c39\n",
      "Displaying 4 of 4 matches:\n",
      "very of notices , etc . 7.2 Filing by fax 7.3 Electronic version prevails 8 . R\n",
      "luding telephone calls , voice mail , fax , e-mail , an automated touch-tone te\n",
      "c. 20 , Sched . 6 , s. 74 ) Filing by fax 7.2 Despite any regulation made under\n",
      "s and other documents may be filed by fax only with the Directors consent . 20\n",
      "https://www.ontario.ca/laws/statute/94b32\n",
      "Displaying 1 of 1 matches:\n",
      "he business , ( e ) the telephone and fax numbers , if any , of the business , \n",
      "https://www.ontario.ca/laws/statute/00a03\n",
      "Displaying 3 of 3 matches:\n",
      " personally , by registered mail , by fax or by any other prescribed method , a\n",
      "iled ; ( c ) on the day it is sent by fax , if sent before 5 p.m. ; ( d ) on th\n",
      "( d ) on the day after it was sent by fax , if sent at or after 5 p.m. ; ( e ) \n",
      "https://www.ontario.ca/laws/statute/10n15\n",
      "Displaying 5 of 5 matches:\n",
      "f document acceptable 204.1 Filing by fax 204.2 Electronic version prevails 205\n",
      "s transmitted , including telephone , fax , e-mail , automated touch-tone telep\n",
      "luding telephone calls , voice mail , fax , e-mail , automated touch-tone telep\n",
      "c. 20 , Sched . 8 , s. 50 ) Filing by fax 204.1 Despite any regulation made und\n",
      "s and other documents may be filed by fax only with the Directors consent . 20\n",
      "https://www.ontario.ca/laws/statute/17o25\n",
      "Displaying 3 of 3 matches:\n",
      "tice ; ( c ) by sending the notice by fax to the person or entity to be served \n",
      " or entity to be served at their last fax number appearing on the records of th\n",
      "a notice sent by personal delivery or fax , on the first business day after the\n",
      "https://www.ontario.ca/laws/statute/13w08\n",
      "Displaying 1 of 1 matches:\n",
      "he supplier , such as by contacting a fax number or an electronic mail address \n",
      "https://www.ontario.ca/laws/statute/00p36\n",
      "Displaying 2 of 2 matches:\n",
      " . A postal address or a telephone or fax number in Ontario . 3 . The occupancy\n",
      "ce sent to the Ministry ; or ( d ) by fax of the document or by electronic mail\n",
      "https://www.ontario.ca/laws/statute/90o36\n",
      "Displaying 1 of 1 matches:\n",
      "lly or by registered mail , courier , fax , electronic mail or other prescribed\n",
      "https://www.ontario.ca/laws/statute/15i22\n",
      "Displaying 3 of 3 matches:\n",
      "r of the authorization , be served by fax or other electronic means instead of \n",
      "until a later date . Deemed receipt , fax , etc . ( 5 ) A notice served by fax \n",
      " fax , etc . ( 5 ) A notice served by fax or other electronic means under subse\n",
      "https://www.ontario.ca/laws/statute/90c47\n",
      "Displaying 1 of 1 matches:\n",
      "ding a full address and telephone and fax numbers . 2009 , c. 33 , Sched . 2 , \n",
      "https://www.ontario.ca/laws/statute/90a26\n",
      "Displaying 8 of 8 matches:\n",
      " address ; ( c ) faxing a copy to the fax number indicated for the person in th\n",
      " c. 16 , Sched . 2 , s. 1 ( 30 ) . By fax ( 3 ) A document that is served or de\n",
      "cument that is served or delivered by fax shall include a cover page indicating\n",
      " including the cover page ; ( e ) the fax number of the sender ; and ( f ) the \n",
      "sheet , may be served or delivered by fax only between 4 p.m. and 8 a.m. the fo\n",
      "s name , address , telephone number , fax number and e-mail address ; ( b ) the\n",
      " . 2 , s. 1 ( 30 ) . When effective , fax or e-mail ( 6 ) Service or delivery o\n",
      " Service or delivery of a document by fax or by e-mail under this section is ef\n",
      "https://www.ontario.ca/laws/statute/07r04\n",
      "Displaying 1 of 1 matches:\n",
      " 3 . The address , telephone number , fax number and e-mail address of a facili\n"
     ]
    }
   ],
   "source": [
    "for j in dfquery.iloc[0][0]:\n",
    "    text_law=df.iloc[j-1][1]\n",
    "    tokens = nltk.word_tokenize(text_law)\n",
    "    text=nltk.Text(tokens)\n",
    "    print(df.iloc[j-1][2])\n",
    "    text.concordance(\"fax\")\n"
   ]
  },
  {
   "cell_type": "code",
   "execution_count": null,
   "metadata": {},
   "outputs": [],
   "source": []
  }
 ],
 "metadata": {
  "kernelspec": {
   "display_name": "Python 3",
   "language": "python",
   "name": "python3"
  },
  "language_info": {
   "codemirror_mode": {
    "name": "ipython",
    "version": 3
   },
   "file_extension": ".py",
   "mimetype": "text/x-python",
   "name": "python",
   "nbconvert_exporter": "python",
   "pygments_lexer": "ipython3",
   "version": "3.7.1"
  }
 },
 "nbformat": 4,
 "nbformat_minor": 2
}
