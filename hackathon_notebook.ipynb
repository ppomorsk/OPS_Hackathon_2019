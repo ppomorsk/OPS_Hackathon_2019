{
 "cells": [
  {
   "cell_type": "markdown",
   "metadata": {},
   "source": [
    "## Introduction to Python\n",
    "\n",
    "Python is the best programming language for prototyping."
   ]
  },
  {
   "cell_type": "code",
   "execution_count": null,
   "metadata": {},
   "outputs": [],
   "source": [
    "print(\"hello world\")"
   ]
  },
  {
   "cell_type": "code",
   "execution_count": null,
   "metadata": {},
   "outputs": [],
   "source": [
    "print(\"hello world again\")"
   ]
  },
  {
   "cell_type": "code",
   "execution_count": null,
   "metadata": {},
   "outputs": [],
   "source": [
    "a=3"
   ]
  },
  {
   "cell_type": "code",
   "execution_count": null,
   "metadata": {},
   "outputs": [],
   "source": [
    "print(a)"
   ]
  },
  {
   "cell_type": "code",
   "execution_count": null,
   "metadata": {},
   "outputs": [],
   "source": [
    "print(a+a)"
   ]
  },
  {
   "cell_type": "code",
   "execution_count": null,
   "metadata": {},
   "outputs": [],
   "source": [
    "type(a)"
   ]
  },
  {
   "cell_type": "code",
   "execution_count": null,
   "metadata": {},
   "outputs": [],
   "source": [
    "b=3.3\n",
    "type(b)"
   ]
  },
  {
   "cell_type": "code",
   "execution_count": null,
   "metadata": {},
   "outputs": [],
   "source": [
    "s=\"hello\""
   ]
  },
  {
   "cell_type": "code",
   "execution_count": null,
   "metadata": {},
   "outputs": [],
   "source": [
    "s+s"
   ]
  },
  {
   "cell_type": "code",
   "execution_count": null,
   "metadata": {},
   "outputs": [],
   "source": [
    "string1=\"hello\""
   ]
  },
  {
   "cell_type": "code",
   "execution_count": null,
   "metadata": {},
   "outputs": [],
   "source": [
    "string2=\"world\""
   ]
  },
  {
   "cell_type": "code",
   "execution_count": null,
   "metadata": {},
   "outputs": [],
   "source": [
    "string1+string2"
   ]
  },
  {
   "cell_type": "code",
   "execution_count": null,
   "metadata": {},
   "outputs": [],
   "source": [
    "type(string1)"
   ]
  },
  {
   "cell_type": "code",
   "execution_count": null,
   "metadata": {},
   "outputs": [],
   "source": [
    "dir(a)"
   ]
  },
  {
   "cell_type": "code",
   "execution_count": null,
   "metadata": {},
   "outputs": [],
   "source": [
    "type(string1)"
   ]
  },
  {
   "cell_type": "code",
   "execution_count": null,
   "metadata": {},
   "outputs": [],
   "source": [
    "dir(string1)"
   ]
  },
  {
   "cell_type": "code",
   "execution_count": null,
   "metadata": {},
   "outputs": [],
   "source": [
    "string1.capitalize()"
   ]
  },
  {
   "cell_type": "code",
   "execution_count": null,
   "metadata": {},
   "outputs": [],
   "source": [
    "string1"
   ]
  },
  {
   "cell_type": "code",
   "execution_count": null,
   "metadata": {},
   "outputs": [],
   "source": [
    "help(string1.capitalize)"
   ]
  },
  {
   "cell_type": "code",
   "execution_count": null,
   "metadata": {},
   "outputs": [],
   "source": [
    "help(string1.replace)"
   ]
  },
  {
   "cell_type": "code",
   "execution_count": null,
   "metadata": {},
   "outputs": [],
   "source": [
    "string1=\"hello hello\"\n",
    "string1.replace(\"ll\",\"AA\", -1)"
   ]
  },
  {
   "cell_type": "code",
   "execution_count": null,
   "metadata": {},
   "outputs": [],
   "source": [
    "dir(string1)"
   ]
  },
  {
   "cell_type": "code",
   "execution_count": null,
   "metadata": {},
   "outputs": [],
   "source": [
    "help(string1.count)"
   ]
  },
  {
   "cell_type": "code",
   "execution_count": null,
   "metadata": {},
   "outputs": [],
   "source": [
    "string3=\"Toronto is the capital of Ontario.  It is a nice city\"\n",
    "string3.count(\"Toronto\")"
   ]
  },
  {
   "cell_type": "code",
   "execution_count": null,
   "metadata": {},
   "outputs": [],
   "source": [
    "string3[0:4]"
   ]
  },
  {
   "cell_type": "code",
   "execution_count": null,
   "metadata": {},
   "outputs": [],
   "source": [
    "string3[:4]"
   ]
  },
  {
   "cell_type": "code",
   "execution_count": null,
   "metadata": {},
   "outputs": [],
   "source": [
    "string3[4:10]"
   ]
  },
  {
   "cell_type": "code",
   "execution_count": null,
   "metadata": {},
   "outputs": [],
   "source": [
    "string3[10:]"
   ]
  },
  {
   "cell_type": "code",
   "execution_count": null,
   "metadata": {},
   "outputs": [],
   "source": [
    "string3[2]"
   ]
  },
  {
   "cell_type": "code",
   "execution_count": null,
   "metadata": {},
   "outputs": [],
   "source": [
    "string3[-1]"
   ]
  },
  {
   "cell_type": "code",
   "execution_count": null,
   "metadata": {},
   "outputs": [],
   "source": [
    "string3[-6:]"
   ]
  },
  {
   "cell_type": "code",
   "execution_count": null,
   "metadata": {},
   "outputs": [],
   "source": [
    "string3[0]=\"t\""
   ]
  },
  {
   "cell_type": "code",
   "execution_count": null,
   "metadata": {},
   "outputs": [],
   "source": [
    "string3=\"t\"+string3[1:]"
   ]
  },
  {
   "cell_type": "code",
   "execution_count": null,
   "metadata": {},
   "outputs": [],
   "source": [
    "string3"
   ]
  },
  {
   "cell_type": "markdown",
   "metadata": {},
   "source": [
    "## Lists"
   ]
  },
  {
   "cell_type": "code",
   "execution_count": null,
   "metadata": {},
   "outputs": [],
   "source": [
    "mylist = [\"A\" ,\"B\" ,\"C\" ,\"D\", 1, 2.0, [\"1\",\"2\"] ]"
   ]
  },
  {
   "cell_type": "code",
   "execution_count": null,
   "metadata": {},
   "outputs": [],
   "source": [
    "mylist"
   ]
  },
  {
   "cell_type": "code",
   "execution_count": null,
   "metadata": {},
   "outputs": [],
   "source": [
    "mylist[0]"
   ]
  },
  {
   "cell_type": "code",
   "execution_count": null,
   "metadata": {},
   "outputs": [],
   "source": [
    "mylist[0]=\"B\""
   ]
  },
  {
   "cell_type": "code",
   "execution_count": null,
   "metadata": {},
   "outputs": [],
   "source": [
    "mylist"
   ]
  },
  {
   "cell_type": "code",
   "execution_count": null,
   "metadata": {},
   "outputs": [],
   "source": [
    "mylist[6]"
   ]
  },
  {
   "cell_type": "code",
   "execution_count": null,
   "metadata": {},
   "outputs": [],
   "source": [
    "mylist[6][1]"
   ]
  },
  {
   "cell_type": "code",
   "execution_count": null,
   "metadata": {},
   "outputs": [],
   "source": [
    "mylist[0:4]"
   ]
  },
  {
   "cell_type": "code",
   "execution_count": null,
   "metadata": {},
   "outputs": [],
   "source": [
    "mylist[-1]"
   ]
  },
  {
   "cell_type": "code",
   "execution_count": null,
   "metadata": {},
   "outputs": [],
   "source": [
    "for i in [0,1,2,3,4,5]:\n",
    "    print(i)"
   ]
  },
  {
   "cell_type": "code",
   "execution_count": null,
   "metadata": {},
   "outputs": [],
   "source": [
    "for i in [\"a\",\"b\",\"c\",\"d\",\"e\"]:\n",
    "    print(i)"
   ]
  },
  {
   "cell_type": "code",
   "execution_count": null,
   "metadata": {},
   "outputs": [],
   "source": [
    "mylist=[]\n",
    "for i in range(6):\n",
    "    mylist.append(str(i))\n",
    "    print(str(i))"
   ]
  },
  {
   "cell_type": "code",
   "execution_count": null,
   "metadata": {},
   "outputs": [],
   "source": [
    "mylist"
   ]
  },
  {
   "cell_type": "code",
   "execution_count": null,
   "metadata": {},
   "outputs": [],
   "source": [
    "mylist=[]\n",
    "for i in range(6):\n",
    "\n",
    "    if(i==0):\n",
    "        print(\"zero\")\n",
    "    elif(i%2==0):\n",
    "        print(i)\n",
    "    else:\n",
    "        print(\"not even\")"
   ]
  },
  {
   "cell_type": "markdown",
   "metadata": {},
   "source": [
    "## Working with NLTK\n",
    "\n",
    "Good resource: https://www.nltk.org/book/"
   ]
  },
  {
   "cell_type": "code",
   "execution_count": null,
   "metadata": {},
   "outputs": [],
   "source": [
    "import nltk"
   ]
  },
  {
   "cell_type": "code",
   "execution_count": null,
   "metadata": {},
   "outputs": [],
   "source": [
    "test_string = \"I have a cat, a dog, and a parrot as pets.\""
   ]
  },
  {
   "cell_type": "code",
   "execution_count": null,
   "metadata": {},
   "outputs": [],
   "source": [
    "tokens = nltk.word_tokenize(test_string)"
   ]
  },
  {
   "cell_type": "code",
   "execution_count": null,
   "metadata": {},
   "outputs": [],
   "source": [
    "tokens"
   ]
  },
  {
   "cell_type": "code",
   "execution_count": null,
   "metadata": {},
   "outputs": [],
   "source": [
    "nltk.pos_tag(tokens)"
   ]
  },
  {
   "cell_type": "code",
   "execution_count": null,
   "metadata": {},
   "outputs": [],
   "source": [
    "test_string=\"They refuse to permit us to obtain the refuse permit.\"\n",
    "tokens = nltk.word_tokenize(test_string)\n",
    "nltk.pos_tag(tokens)"
   ]
  },
  {
   "cell_type": "code",
   "execution_count": null,
   "metadata": {},
   "outputs": [],
   "source": [
    "test_string=\"I can drink a can of soda.\"\n",
    "tokens = nltk.word_tokenize(test_string)\n",
    "nltk.pos_tag(tokens)"
   ]
  },
  {
   "cell_type": "code",
   "execution_count": null,
   "metadata": {},
   "outputs": [],
   "source": [
    "nltk.help.upenn_tagset()"
   ]
  },
  {
   "cell_type": "code",
   "execution_count": null,
   "metadata": {},
   "outputs": [],
   "source": [
    "test_string=\"I can drink a can of soda.\"\n",
    "nltk.pos_tag(nltk.word_tokenize(test_string))"
   ]
  },
  {
   "cell_type": "code",
   "execution_count": null,
   "metadata": {},
   "outputs": [],
   "source": [
    "nltk.pos_tag(nltk.word_tokenize(\"I can drink a can of soda.\"))"
   ]
  },
  {
   "cell_type": "code",
   "execution_count": null,
   "metadata": {},
   "outputs": [],
   "source": [
    "import nltk\n",
    "import pandas as pd"
   ]
  },
  {
   "cell_type": "code",
   "execution_count": null,
   "metadata": {},
   "outputs": [],
   "source": [
    "df = pd.read_csv(\"elawsCorpus-output.csv\",encoding='latin-1')"
   ]
  },
  {
   "cell_type": "code",
   "execution_count": null,
   "metadata": {},
   "outputs": [],
   "source": [
    "#df"
   ]
  },
  {
   "cell_type": "code",
   "execution_count": null,
   "metadata": {},
   "outputs": [],
   "source": [
    "df.shape"
   ]
  },
  {
   "cell_type": "code",
   "execution_count": null,
   "metadata": {},
   "outputs": [],
   "source": [
    "df.drop(df.index[20:],inplace=True)"
   ]
  },
  {
   "cell_type": "code",
   "execution_count": null,
   "metadata": {},
   "outputs": [],
   "source": [
    "df.shape"
   ]
  },
  {
   "cell_type": "code",
   "execution_count": null,
   "metadata": {},
   "outputs": [],
   "source": [
    "cp elawsCorpus-output.csv /tmp/"
   ]
  },
  {
   "cell_type": "code",
   "execution_count": null,
   "metadata": {},
   "outputs": [],
   "source": [
    "#print(df.iloc[0,1])"
   ]
  },
  {
   "cell_type": "code",
   "execution_count": null,
   "metadata": {},
   "outputs": [],
   "source": [
    "text_law=df.iloc[0,1].replace(\"\\x92\",\"'\").replace(\"\\x96\",\"-\").replace('\\x93','\"').replace(\"\\x94\",'\"')"
   ]
  },
  {
   "cell_type": "code",
   "execution_count": null,
   "metadata": {},
   "outputs": [],
   "source": [
    "text_law"
   ]
  },
  {
   "cell_type": "code",
   "execution_count": null,
   "metadata": {},
   "outputs": [],
   "source": [
    "tokens = nltk.word_tokenize(text_law)"
   ]
  },
  {
   "cell_type": "code",
   "execution_count": null,
   "metadata": {},
   "outputs": [],
   "source": [
    "tokens_tagged = nltk.pos_tag(tokens)"
   ]
  },
  {
   "cell_type": "code",
   "execution_count": null,
   "metadata": {},
   "outputs": [],
   "source": [
    "len(tokens_tagged)"
   ]
  },
  {
   "cell_type": "code",
   "execution_count": null,
   "metadata": {},
   "outputs": [],
   "source": [
    "type(tokens_tagged)"
   ]
  },
  {
   "cell_type": "code",
   "execution_count": null,
   "metadata": {},
   "outputs": [],
   "source": [
    "#tokens_tagged"
   ]
  },
  {
   "cell_type": "code",
   "execution_count": null,
   "metadata": {},
   "outputs": [],
   "source": [
    "#list(filter(  lambda x: x[1]==\"NN\", tokens_tagged))"
   ]
  },
  {
   "cell_type": "code",
   "execution_count": null,
   "metadata": {},
   "outputs": [],
   "source": [
    "tokens_tagged_nouns=list(filter(  lambda x: x[1][0:2]==\"NN\", tokens_tagged))"
   ]
  },
  {
   "cell_type": "code",
   "execution_count": null,
   "metadata": {},
   "outputs": [],
   "source": [
    "#tokens_tagged_nouns"
   ]
  },
  {
   "cell_type": "code",
   "execution_count": null,
   "metadata": {},
   "outputs": [],
   "source": [
    "nouns = list( map(lambda x: x[0],tokens_tagged_nouns) )"
   ]
  },
  {
   "cell_type": "code",
   "execution_count": null,
   "metadata": {},
   "outputs": [],
   "source": [
    "#nouns"
   ]
  },
  {
   "cell_type": "code",
   "execution_count": null,
   "metadata": {},
   "outputs": [],
   "source": [
    "nouns_lower= list(map(lambda x: x.lower(), nouns))"
   ]
  },
  {
   "cell_type": "code",
   "execution_count": null,
   "metadata": {},
   "outputs": [],
   "source": [
    "nouns_unique = list(set(nouns_lower))"
   ]
  },
  {
   "cell_type": "code",
   "execution_count": null,
   "metadata": {},
   "outputs": [],
   "source": [
    "len(nouns_unique)"
   ]
  },
  {
   "cell_type": "code",
   "execution_count": null,
   "metadata": {},
   "outputs": [],
   "source": [
    "#nouns_unique"
   ]
  },
  {
   "cell_type": "code",
   "execution_count": null,
   "metadata": {},
   "outputs": [],
   "source": [
    "nouns_unique.sort()"
   ]
  },
  {
   "cell_type": "markdown",
   "metadata": {},
   "source": [
    "## Getting a list of laws for each word, with Pandas"
   ]
  },
  {
   "cell_type": "code",
   "execution_count": 1,
   "metadata": {},
   "outputs": [],
   "source": [
    "import nltk\n",
    "def process_law_text(input_text):\n",
    "    text_law=input_text.replace(\"\\x92\",\"'\").replace(\"\\x96\",\"-\").replace('\\x93','\"').replace(\"\\x94\",'\"')\n",
    "    tokens = nltk.word_tokenize(text_law)\n",
    "    tokens_tagged = nltk.pos_tag(tokens)\n",
    "    tokens_tagged_nouns=list(filter(  lambda x: x[1][0]==\"N\" and x[1][1]==\"N\", tokens_tagged))\n",
    "    nouns = list( map(lambda x: x[0],tokens_tagged_nouns) )\n",
    "    nouns_lower= list(map(lambda x: x.lower(), nouns))\n",
    "    nouns_unique = list(set(nouns_lower))\n",
    "    nouns_unique.sort()\n",
    "    return nouns_unique"
   ]
  },
  {
   "cell_type": "code",
   "execution_count": 2,
   "metadata": {},
   "outputs": [
    {
     "name": "stdout",
     "output_type": "stream",
     "text": [
      "time=  29.968235969543457\n"
     ]
    }
   ],
   "source": [
    "import pandas as pd\n",
    "\n",
    "import time\n",
    "start=time.time()\n",
    "df1 = pd.read_csv(\"elawsCorpus-output.csv\",encoding='latin-1')\n",
    "df1.drop(df1.index[20:],inplace=True)\n",
    "df1[\"noun_list\"]=df1[\"Text\"].apply(lambda x: process_law_text(x))\n",
    "df1.drop(columns=[\"Text\",\"hyperlink\"], inplace=True)\n",
    "df1.rename(index=str, columns={\"Unnamed: 0\":\"law\"},inplace=True)\n",
    "\n",
    "df2 = pd.DataFrame(df1.noun_list.tolist(), index=df1.law)\n",
    "\n",
    "df3=df2.stack().reset_index(level=1, drop=True).reset_index().rename(columns={0:\"noun_list\"})\n",
    "\n",
    "df3[\"law\"]=df3[\"law\"].apply(lambda x: [x,])\n",
    "\n",
    "df4=df3.groupby(\"noun_list\").agg({\"law\":\"sum\"})\n",
    "end=time.time()\n",
    "print(\"time= \",end-start)"
   ]
  },
  {
   "cell_type": "code",
   "execution_count": 3,
   "metadata": {},
   "outputs": [
    {
     "data": {
      "text/html": [
       "<div>\n",
       "<style scoped>\n",
       "    .dataframe tbody tr th:only-of-type {\n",
       "        vertical-align: middle;\n",
       "    }\n",
       "\n",
       "    .dataframe tbody tr th {\n",
       "        vertical-align: top;\n",
       "    }\n",
       "\n",
       "    .dataframe thead th {\n",
       "        text-align: right;\n",
       "    }\n",
       "</style>\n",
       "<table border=\"1\" class=\"dataframe\">\n",
       "  <thead>\n",
       "    <tr style=\"text-align: right;\">\n",
       "      <th></th>\n",
       "      <th>law</th>\n",
       "      <th>noun_list</th>\n",
       "    </tr>\n",
       "  </thead>\n",
       "  <tbody>\n",
       "    <tr>\n",
       "      <th>0</th>\n",
       "      <td>1</td>\n",
       "      <td>[39, a, a.1, a.2, a.m., ability, absence, abse...</td>\n",
       "    </tr>\n",
       "    <tr>\n",
       "      <th>1</th>\n",
       "      <td>2</td>\n",
       "      <td>[3, 32, 39.2, ______________, a, ability, acco...</td>\n",
       "    </tr>\n",
       "    <tr>\n",
       "      <th>2</th>\n",
       "      <td>3</td>\n",
       "      <td>[a, a.m., ability, absence, absent, abuse, acc...</td>\n",
       "    </tr>\n",
       "    <tr>\n",
       "      <th>3</th>\n",
       "      <td>4</td>\n",
       "      <td>[54, 65, a, a., a.m., abbreviation, ability, a...</td>\n",
       "    </tr>\n",
       "    <tr>\n",
       "      <th>4</th>\n",
       "      <td>5</td>\n",
       "      <td>[___________, a, ability, access, accordance, ...</td>\n",
       "    </tr>\n",
       "    <tr>\n",
       "      <th>5</th>\n",
       "      <td>6</td>\n",
       "      <td>[=, accordance, account, accounts, act, action...</td>\n",
       "    </tr>\n",
       "    <tr>\n",
       "      <th>6</th>\n",
       "      <td>7</td>\n",
       "      <td>[______________, a, a.1, a.2, a.3, abatement, ...</td>\n",
       "    </tr>\n",
       "    <tr>\n",
       "      <th>7</th>\n",
       "      <td>8</td>\n",
       "      <td>[______________, a.m., absence, acceptance, ac...</td>\n",
       "    </tr>\n",
       "    <tr>\n",
       "      <th>8</th>\n",
       "      <td>9</td>\n",
       "      <td>[______________, a, absence, access, accident,...</td>\n",
       "    </tr>\n",
       "    <tr>\n",
       "      <th>9</th>\n",
       "      <td>10</td>\n",
       "      <td>[______________, a, access, accordance, accoun...</td>\n",
       "    </tr>\n",
       "    <tr>\n",
       "      <th>10</th>\n",
       "      <td>11</td>\n",
       "      <td>[a, acceptance, access, accordance, account, a...</td>\n",
       "    </tr>\n",
       "    <tr>\n",
       "      <th>11</th>\n",
       "      <td>12</td>\n",
       "      <td>[______________, access, accordance, accountin...</td>\n",
       "    </tr>\n",
       "    <tr>\n",
       "      <th>12</th>\n",
       "      <td>13</td>\n",
       "      <td>[accordance, act, action, acts, administration...</td>\n",
       "    </tr>\n",
       "    <tr>\n",
       "      <th>13</th>\n",
       "      <td>14</td>\n",
       "      <td>[act, acts, administration, agency, agreement,...</td>\n",
       "    </tr>\n",
       "    <tr>\n",
       "      <th>14</th>\n",
       "      <td>15</td>\n",
       "      <td>[a, access, accordance, account, accounts, act...</td>\n",
       "    </tr>\n",
       "    <tr>\n",
       "      <th>15</th>\n",
       "      <td>16</td>\n",
       "      <td>[access, accordance, accounts, acquisition, ac...</td>\n",
       "    </tr>\n",
       "    <tr>\n",
       "      <th>16</th>\n",
       "      <td>17</td>\n",
       "      <td>[a, absence, access, accordance, act, activiti...</td>\n",
       "    </tr>\n",
       "    <tr>\n",
       "      <th>17</th>\n",
       "      <td>18</td>\n",
       "      <td>[a, absence, access, accordance, act, action, ...</td>\n",
       "    </tr>\n",
       "    <tr>\n",
       "      <th>18</th>\n",
       "      <td>19</td>\n",
       "      <td>[34, 66, ______________, a, ability, absence, ...</td>\n",
       "    </tr>\n",
       "    <tr>\n",
       "      <th>19</th>\n",
       "      <td>20</td>\n",
       "      <td>[a, ability, absence, accordance, act, action,...</td>\n",
       "    </tr>\n",
       "  </tbody>\n",
       "</table>\n",
       "</div>"
      ],
      "text/plain": [
       "    law                                          noun_list\n",
       "0     1  [39, a, a.1, a.2, a.m., ability, absence, abse...\n",
       "1     2  [3, 32, 39.2, ______________, a, ability, acco...\n",
       "2     3  [a, a.m., ability, absence, absent, abuse, acc...\n",
       "3     4  [54, 65, a, a., a.m., abbreviation, ability, a...\n",
       "4     5  [___________, a, ability, access, accordance, ...\n",
       "5     6  [=, accordance, account, accounts, act, action...\n",
       "6     7  [______________, a, a.1, a.2, a.3, abatement, ...\n",
       "7     8  [______________, a.m., absence, acceptance, ac...\n",
       "8     9  [______________, a, absence, access, accident,...\n",
       "9    10  [______________, a, access, accordance, accoun...\n",
       "10   11  [a, acceptance, access, accordance, account, a...\n",
       "11   12  [______________, access, accordance, accountin...\n",
       "12   13  [accordance, act, action, acts, administration...\n",
       "13   14  [act, acts, administration, agency, agreement,...\n",
       "14   15  [a, access, accordance, account, accounts, act...\n",
       "15   16  [access, accordance, accounts, acquisition, ac...\n",
       "16   17  [a, absence, access, accordance, act, activiti...\n",
       "17   18  [a, absence, access, accordance, act, action, ...\n",
       "18   19  [34, 66, ______________, a, ability, absence, ...\n",
       "19   20  [a, ability, absence, accordance, act, action,..."
      ]
     },
     "execution_count": 3,
     "metadata": {},
     "output_type": "execute_result"
    }
   ],
   "source": [
    "df1"
   ]
  },
  {
   "cell_type": "code",
   "execution_count": 4,
   "metadata": {},
   "outputs": [
    {
     "data": {
      "text/html": [
       "<div>\n",
       "<style scoped>\n",
       "    .dataframe tbody tr th:only-of-type {\n",
       "        vertical-align: middle;\n",
       "    }\n",
       "\n",
       "    .dataframe tbody tr th {\n",
       "        vertical-align: top;\n",
       "    }\n",
       "\n",
       "    .dataframe thead th {\n",
       "        text-align: right;\n",
       "    }\n",
       "</style>\n",
       "<table border=\"1\" class=\"dataframe\">\n",
       "  <thead>\n",
       "    <tr style=\"text-align: right;\">\n",
       "      <th></th>\n",
       "      <th>law</th>\n",
       "    </tr>\n",
       "    <tr>\n",
       "      <th>noun_list</th>\n",
       "      <th></th>\n",
       "    </tr>\n",
       "  </thead>\n",
       "  <tbody>\n",
       "    <tr>\n",
       "      <th>3</th>\n",
       "      <td>[2]</td>\n",
       "    </tr>\n",
       "    <tr>\n",
       "      <th>32</th>\n",
       "      <td>[2]</td>\n",
       "    </tr>\n",
       "    <tr>\n",
       "      <th>34</th>\n",
       "      <td>[19]</td>\n",
       "    </tr>\n",
       "    <tr>\n",
       "      <th>39</th>\n",
       "      <td>[1]</td>\n",
       "    </tr>\n",
       "    <tr>\n",
       "      <th>39.2</th>\n",
       "      <td>[2]</td>\n",
       "    </tr>\n",
       "    <tr>\n",
       "      <th>54</th>\n",
       "      <td>[4]</td>\n",
       "    </tr>\n",
       "    <tr>\n",
       "      <th>65</th>\n",
       "      <td>[4]</td>\n",
       "    </tr>\n",
       "    <tr>\n",
       "      <th>66</th>\n",
       "      <td>[19]</td>\n",
       "    </tr>\n",
       "    <tr>\n",
       "      <th>=</th>\n",
       "      <td>[6]</td>\n",
       "    </tr>\n",
       "    <tr>\n",
       "      <th>___________</th>\n",
       "      <td>[5]</td>\n",
       "    </tr>\n",
       "    <tr>\n",
       "      <th>______________</th>\n",
       "      <td>[2, 7, 8, 9, 10, 12, 19]</td>\n",
       "    </tr>\n",
       "    <tr>\n",
       "      <th>a</th>\n",
       "      <td>[1, 2, 3, 4, 5, 7, 9, 10, 11, 15, 17, 18, 19, 20]</td>\n",
       "    </tr>\n",
       "    <tr>\n",
       "      <th>a.</th>\n",
       "      <td>[4]</td>\n",
       "    </tr>\n",
       "    <tr>\n",
       "      <th>a.1</th>\n",
       "      <td>[1, 7]</td>\n",
       "    </tr>\n",
       "    <tr>\n",
       "      <th>a.2</th>\n",
       "      <td>[1, 7]</td>\n",
       "    </tr>\n",
       "    <tr>\n",
       "      <th>a.3</th>\n",
       "      <td>[7]</td>\n",
       "    </tr>\n",
       "    <tr>\n",
       "      <th>a.m.</th>\n",
       "      <td>[1, 3, 4, 8]</td>\n",
       "    </tr>\n",
       "    <tr>\n",
       "      <th>abatement</th>\n",
       "      <td>[7]</td>\n",
       "    </tr>\n",
       "    <tr>\n",
       "      <th>abbreviation</th>\n",
       "      <td>[4, 7]</td>\n",
       "    </tr>\n",
       "    <tr>\n",
       "      <th>abbreviations</th>\n",
       "      <td>[7]</td>\n",
       "    </tr>\n",
       "    <tr>\n",
       "      <th>ability</th>\n",
       "      <td>[1, 2, 3, 4, 5, 7, 19, 20]</td>\n",
       "    </tr>\n",
       "    <tr>\n",
       "      <th>aboriginal</th>\n",
       "      <td>[4]</td>\n",
       "    </tr>\n",
       "    <tr>\n",
       "      <th>abridgement</th>\n",
       "      <td>[7]</td>\n",
       "    </tr>\n",
       "    <tr>\n",
       "      <th>absence</th>\n",
       "      <td>[1, 3, 4, 7, 8, 9, 17, 18, 19, 20]</td>\n",
       "    </tr>\n",
       "    <tr>\n",
       "      <th>absent</th>\n",
       "      <td>[1, 3]</td>\n",
       "    </tr>\n",
       "    <tr>\n",
       "      <th>abuse</th>\n",
       "      <td>[1, 3]</td>\n",
       "    </tr>\n",
       "    <tr>\n",
       "      <th>accept</th>\n",
       "      <td>[7]</td>\n",
       "    </tr>\n",
       "    <tr>\n",
       "      <th>acceptance</th>\n",
       "      <td>[1, 7, 8, 11]</td>\n",
       "    </tr>\n",
       "    <tr>\n",
       "      <th>accepting</th>\n",
       "      <td>[8]</td>\n",
       "    </tr>\n",
       "    <tr>\n",
       "      <th>access</th>\n",
       "      <td>[1, 3, 4, 5, 7, 9, 10, 11, 12, 15, 16, 17, 18,...</td>\n",
       "    </tr>\n",
       "    <tr>\n",
       "      <th>...</th>\n",
       "      <td>...</td>\n",
       "    </tr>\n",
       "    <tr>\n",
       "      <th>writ</th>\n",
       "      <td>[7, 10]</td>\n",
       "    </tr>\n",
       "    <tr>\n",
       "      <th>writing</th>\n",
       "      <td>[1, 3, 4, 7, 8, 9, 11, 15, 17, 18, 19, 20]</td>\n",
       "    </tr>\n",
       "    <tr>\n",
       "      <th>written</th>\n",
       "      <td>[1, 9]</td>\n",
       "    </tr>\n",
       "    <tr>\n",
       "      <th>wrongdoing</th>\n",
       "      <td>[3]</td>\n",
       "    </tr>\n",
       "    <tr>\n",
       "      <th>x</th>\n",
       "      <td>[1, 3, 7, 19]</td>\n",
       "    </tr>\n",
       "    <tr>\n",
       "      <th>x-ray</th>\n",
       "      <td>[19]</td>\n",
       "    </tr>\n",
       "    <tr>\n",
       "      <th>x-rays</th>\n",
       "      <td>[19]</td>\n",
       "    </tr>\n",
       "    <tr>\n",
       "      <th>xi</th>\n",
       "      <td>[3, 7]</td>\n",
       "    </tr>\n",
       "    <tr>\n",
       "      <th>xii</th>\n",
       "      <td>[7]</td>\n",
       "    </tr>\n",
       "    <tr>\n",
       "      <th>xiii</th>\n",
       "      <td>[7]</td>\n",
       "    </tr>\n",
       "    <tr>\n",
       "      <th>xiv</th>\n",
       "      <td>[7]</td>\n",
       "    </tr>\n",
       "    <tr>\n",
       "      <th>xv</th>\n",
       "      <td>[7]</td>\n",
       "    </tr>\n",
       "    <tr>\n",
       "      <th>xvi</th>\n",
       "      <td>[7]</td>\n",
       "    </tr>\n",
       "    <tr>\n",
       "      <th>xvii</th>\n",
       "      <td>[7]</td>\n",
       "    </tr>\n",
       "    <tr>\n",
       "      <th>xviii</th>\n",
       "      <td>[7]</td>\n",
       "    </tr>\n",
       "    <tr>\n",
       "      <th>xx</th>\n",
       "      <td>[7]</td>\n",
       "    </tr>\n",
       "    <tr>\n",
       "      <th>xx.1</th>\n",
       "      <td>[5]</td>\n",
       "    </tr>\n",
       "    <tr>\n",
       "      <th>y</th>\n",
       "      <td>[1, 4]</td>\n",
       "    </tr>\n",
       "    <tr>\n",
       "      <th>year</th>\n",
       "      <td>[1, 2, 3, 4, 5, 6, 7, 8, 9, 11, 12, 15, 16, 17...</td>\n",
       "    </tr>\n",
       "    <tr>\n",
       "      <th>years</th>\n",
       "      <td>[1, 3, 4, 5, 7, 8, 9, 11, 14, 15, 16, 17, 18, ...</td>\n",
       "    </tr>\n",
       "    <tr>\n",
       "      <th>yorkview</th>\n",
       "      <td>[1]</td>\n",
       "    </tr>\n",
       "    <tr>\n",
       "      <th>young</th>\n",
       "      <td>[19]</td>\n",
       "    </tr>\n",
       "    <tr>\n",
       "      <th>youth</th>\n",
       "      <td>[1, 4, 5, 9, 17, 19, 20]</td>\n",
       "    </tr>\n",
       "    <tr>\n",
       "      <th>z</th>\n",
       "      <td>[4, 12]</td>\n",
       "    </tr>\n",
       "    <tr>\n",
       "      <th></th>\n",
       "      <td>[2, 20]</td>\n",
       "    </tr>\n",
       "    <tr>\n",
       "      <th>à</th>\n",
       "      <td>[6, 7, 19]</td>\n",
       "    </tr>\n",
       "    <tr>\n",
       "      <th>école</th>\n",
       "      <td>[4]</td>\n",
       "    </tr>\n",
       "    <tr>\n",
       "      <th>électronique</th>\n",
       "      <td>[7]</td>\n",
       "    </tr>\n",
       "    <tr>\n",
       "      <th>établissement</th>\n",
       "      <td>[4, 19, 20]</td>\n",
       "    </tr>\n",
       "    <tr>\n",
       "      <th>éthanol</th>\n",
       "      <td>[9]</td>\n",
       "    </tr>\n",
       "  </tbody>\n",
       "</table>\n",
       "<p>3570 rows × 1 columns</p>\n",
       "</div>"
      ],
      "text/plain": [
       "                                                              law\n",
       "noun_list                                                        \n",
       "3                                                             [2]\n",
       "32                                                            [2]\n",
       "34                                                           [19]\n",
       "39                                                            [1]\n",
       "39.2                                                          [2]\n",
       "54                                                            [4]\n",
       "65                                                            [4]\n",
       "66                                                           [19]\n",
       "=                                                             [6]\n",
       "___________                                                   [5]\n",
       "______________                           [2, 7, 8, 9, 10, 12, 19]\n",
       "a               [1, 2, 3, 4, 5, 7, 9, 10, 11, 15, 17, 18, 19, 20]\n",
       "a.                                                            [4]\n",
       "a.1                                                        [1, 7]\n",
       "a.2                                                        [1, 7]\n",
       "a.3                                                           [7]\n",
       "a.m.                                                 [1, 3, 4, 8]\n",
       "abatement                                                     [7]\n",
       "abbreviation                                               [4, 7]\n",
       "abbreviations                                                 [7]\n",
       "ability                                [1, 2, 3, 4, 5, 7, 19, 20]\n",
       "aboriginal                                                    [4]\n",
       "abridgement                                                   [7]\n",
       "absence                        [1, 3, 4, 7, 8, 9, 17, 18, 19, 20]\n",
       "absent                                                     [1, 3]\n",
       "abuse                                                      [1, 3]\n",
       "accept                                                        [7]\n",
       "acceptance                                          [1, 7, 8, 11]\n",
       "accepting                                                     [8]\n",
       "access          [1, 3, 4, 5, 7, 9, 10, 11, 12, 15, 16, 17, 18,...\n",
       "...                                                           ...\n",
       "writ                                                      [7, 10]\n",
       "writing                [1, 3, 4, 7, 8, 9, 11, 15, 17, 18, 19, 20]\n",
       "written                                                    [1, 9]\n",
       "wrongdoing                                                    [3]\n",
       "x                                                   [1, 3, 7, 19]\n",
       "x-ray                                                        [19]\n",
       "x-rays                                                       [19]\n",
       "xi                                                         [3, 7]\n",
       "xii                                                           [7]\n",
       "xiii                                                          [7]\n",
       "xiv                                                           [7]\n",
       "xv                                                            [7]\n",
       "xvi                                                           [7]\n",
       "xvii                                                          [7]\n",
       "xviii                                                         [7]\n",
       "xx                                                            [7]\n",
       "xx.1                                                          [5]\n",
       "y                                                          [1, 4]\n",
       "year            [1, 2, 3, 4, 5, 6, 7, 8, 9, 11, 12, 15, 16, 17...\n",
       "years           [1, 3, 4, 5, 7, 8, 9, 11, 14, 15, 16, 17, 18, ...\n",
       "yorkview                                                      [1]\n",
       "young                                                        [19]\n",
       "youth                                    [1, 4, 5, 9, 17, 19, 20]\n",
       "z                                                         [4, 12]\n",
       "                                                         [2, 20]\n",
       "à                                                      [6, 7, 19]\n",
       "école                                                         [4]\n",
       "électronique                                                  [7]\n",
       "établissement                                         [4, 19, 20]\n",
       "éthanol                                                       [9]\n",
       "\n",
       "[3570 rows x 1 columns]"
      ]
     },
     "execution_count": 4,
     "metadata": {},
     "output_type": "execute_result"
    }
   ],
   "source": [
    "df4"
   ]
  },
  {
   "cell_type": "code",
   "execution_count": 4,
   "metadata": {},
   "outputs": [],
   "source": [
    "df = pd.read_csv(\"elawsCorpus-output.csv\",encoding='latin-1')\n"
   ]
  },
  {
   "cell_type": "code",
   "execution_count": 78,
   "metadata": {},
   "outputs": [
    {
     "data": {
      "text/plain": [
       "['______________',\n",
       " 'a',\n",
       " 'absence',\n",
       " 'access',\n",
       " 'accordance',\n",
       " 'accurate',\n",
       " 'act',\n",
       " 'acting',\n",
       " 'action',\n",
       " 'adding',\n",
       " 'addition',\n",
       " 'adjoint',\n",
       " 'administration',\n",
       " 'administrators',\n",
       " 'admissibility',\n",
       " 'adopted',\n",
       " 'adopting',\n",
       " 'adoption',\n",
       " 'adoptions',\n",
       " 'adoptée',\n",
       " 'advantage',\n",
       " 'affidavits',\n",
       " 'affirmation',\n",
       " 'age',\n",
       " 'agency',\n",
       " 'agent',\n",
       " 'agreement',\n",
       " 'agreements',\n",
       " 'agrees',\n",
       " 'alteration',\n",
       " 'alternate',\n",
       " 'amendment',\n",
       " 'amendments',\n",
       " 'america',\n",
       " 'annulment',\n",
       " 'any',\n",
       " 'anything',\n",
       " 'applicant',\n",
       " 'application',\n",
       " 'applies',\n",
       " 'apply',\n",
       " 'appoint',\n",
       " 'appointment',\n",
       " 'approval',\n",
       " 'april',\n",
       " 'archives',\n",
       " 'archivist',\n",
       " 'archiviste',\n",
       " 'art',\n",
       " 'assembly',\n",
       " 'assistance',\n",
       " 'attempt',\n",
       " 'attendance',\n",
       " 'attribute',\n",
       " 'attributes',\n",
       " 'august',\n",
       " 'authority',\n",
       " 'aware',\n",
       " 'b',\n",
       " 'b.1',\n",
       " 'basis',\n",
       " 'beating',\n",
       " 'behalf',\n",
       " 'birth',\n",
       " 'births',\n",
       " 'board',\n",
       " 'bodies',\n",
       " 'body',\n",
       " 'boundaries',\n",
       " 'breach',\n",
       " 'breathing',\n",
       " 'burial',\n",
       " 'c',\n",
       " 'c.',\n",
       " 'calendar',\n",
       " 'canada',\n",
       " 'cancellation',\n",
       " 'capacity',\n",
       " 'care',\n",
       " 'carrier',\n",
       " 'case',\n",
       " 'cases',\n",
       " 'casket',\n",
       " 'cause',\n",
       " 'causes',\n",
       " 'ceases',\n",
       " 'cemetery',\n",
       " 'certificat',\n",
       " 'certificate',\n",
       " 'certificates',\n",
       " 'certification',\n",
       " 'certifying',\n",
       " 'change',\n",
       " 'changes',\n",
       " 'changing',\n",
       " 'chap',\n",
       " 'chapter',\n",
       " 'characteristic',\n",
       " 'characteristics',\n",
       " 'charge',\n",
       " 'child',\n",
       " 'children',\n",
       " 'church',\n",
       " 'cimetière',\n",
       " 'circumstances',\n",
       " 'class',\n",
       " 'classes',\n",
       " 'classification',\n",
       " 'clause',\n",
       " 'clauses',\n",
       " 'close',\n",
       " 'code',\n",
       " 'collect',\n",
       " 'college',\n",
       " 'columbia',\n",
       " 'combination',\n",
       " 'commission',\n",
       " 'communicate',\n",
       " 'company',\n",
       " 'compliance',\n",
       " 'complies',\n",
       " 'conception',\n",
       " 'conditions',\n",
       " 'confidential',\n",
       " 'congregation',\n",
       " 'connection',\n",
       " 'consent',\n",
       " 'consents',\n",
       " 'consequent',\n",
       " 'considers',\n",
       " 'consisting',\n",
       " 'consolidation',\n",
       " 'contact',\n",
       " 'contents',\n",
       " 'continuance',\n",
       " 'continue',\n",
       " 'contravention',\n",
       " 'contraventions',\n",
       " 'control',\n",
       " 'conviction',\n",
       " 'copies',\n",
       " 'copy',\n",
       " 'copying',\n",
       " 'cord',\n",
       " 'coroner',\n",
       " 'coroners',\n",
       " 'corporation',\n",
       " 'correction',\n",
       " 'correctness',\n",
       " 'council',\n",
       " 'court',\n",
       " 'cremation',\n",
       " 'crematorium',\n",
       " 'criminal',\n",
       " 'crémation',\n",
       " 'cts',\n",
       " 'culture',\n",
       " 'currency',\n",
       " 'custody',\n",
       " 'd',\n",
       " \"d'adoption\",\n",
       " \"d'un\",\n",
       " 'd/m/y',\n",
       " 'date',\n",
       " 'day',\n",
       " 'days',\n",
       " 'death',\n",
       " 'deaths',\n",
       " 'december',\n",
       " 'declaration',\n",
       " 'declarations',\n",
       " 'decree',\n",
       " 'decrees',\n",
       " 'definition',\n",
       " 'definitions',\n",
       " 'delegation',\n",
       " 'delivers',\n",
       " 'demand',\n",
       " 'denomination',\n",
       " 'deputy',\n",
       " 'described',\n",
       " 'description',\n",
       " 'designation',\n",
       " 'destruction',\n",
       " 'directeur',\n",
       " 'direction',\n",
       " 'director',\n",
       " 'directors',\n",
       " 'disclosure',\n",
       " 'discretion',\n",
       " 'disease',\n",
       " 'diseases',\n",
       " 'disposal',\n",
       " 'dispose',\n",
       " 'disposition',\n",
       " 'dissolution',\n",
       " 'district',\n",
       " 'division',\n",
       " 'divisions',\n",
       " 'divorce',\n",
       " 'document',\n",
       " 'documentation',\n",
       " 'documents',\n",
       " 'duties',\n",
       " 'duty',\n",
       " 'e',\n",
       " 'e.1',\n",
       " 'e.2',\n",
       " 'effect',\n",
       " 'eligibility',\n",
       " 'enactment',\n",
       " 'end',\n",
       " 'enforce',\n",
       " 'enforcement',\n",
       " 'enregistrée',\n",
       " 'enter',\n",
       " 'enters',\n",
       " 'entities',\n",
       " 'erreur',\n",
       " 'error',\n",
       " 'errors',\n",
       " 'etc',\n",
       " 'etc.',\n",
       " 'event',\n",
       " 'every',\n",
       " 'evidence',\n",
       " 'examination',\n",
       " 'examinations',\n",
       " 'exception',\n",
       " 'existence',\n",
       " 'expiry',\n",
       " 'expulsion',\n",
       " 'extent',\n",
       " 'extract',\n",
       " 'extraction',\n",
       " 'f',\n",
       " 'fact',\n",
       " 'facts',\n",
       " 'fails',\n",
       " 'failure',\n",
       " 'family',\n",
       " 'father',\n",
       " 'favour',\n",
       " 'fee',\n",
       " 'fees',\n",
       " 'fetus',\n",
       " 'file',\n",
       " 'files',\n",
       " 'filing',\n",
       " 'find',\n",
       " 'fine',\n",
       " 'force',\n",
       " 'forename',\n",
       " 'form',\n",
       " 'format',\n",
       " 'former',\n",
       " 'forms',\n",
       " 'forthwith',\n",
       " 'français',\n",
       " 'freedom',\n",
       " 'functions',\n",
       " 'funeral',\n",
       " 'funéraires',\n",
       " 'furnishing',\n",
       " 'g',\n",
       " 'general',\n",
       " 'government',\n",
       " 'governor',\n",
       " 'grams',\n",
       " 'grounds',\n",
       " 'guarantor',\n",
       " 'guarantors',\n",
       " 'h',\n",
       " 'health',\n",
       " 'hearing',\n",
       " 'heart',\n",
       " 'her',\n",
       " 'hereafter',\n",
       " 'history',\n",
       " 'holder',\n",
       " 'hospitals',\n",
       " 'hours',\n",
       " 'i',\n",
       " 'i.1',\n",
       " 'i.2',\n",
       " 'i.3',\n",
       " 'i.4',\n",
       " 'i.5',\n",
       " 'i.6',\n",
       " 'idem',\n",
       " 'identity',\n",
       " 'ii',\n",
       " 'iii',\n",
       " 'illness',\n",
       " 'incineration',\n",
       " 'incorporation',\n",
       " 'index',\n",
       " 'indexed',\n",
       " 'indexes',\n",
       " 'indian',\n",
       " 'indians',\n",
       " 'indien',\n",
       " 'individual',\n",
       " 'information',\n",
       " 'inquest',\n",
       " 'inspecteur',\n",
       " 'inspection',\n",
       " 'inspector',\n",
       " 'inspectors',\n",
       " 'institution',\n",
       " 'institutions',\n",
       " 'instructions',\n",
       " 'insurance',\n",
       " 'interest',\n",
       " 'interests',\n",
       " 'interment',\n",
       " 'investigation',\n",
       " 'involvement',\n",
       " 'issues',\n",
       " 'j',\n",
       " 'jl',\n",
       " 'judgment',\n",
       " 'july',\n",
       " 'jurisdiction',\n",
       " 'justice',\n",
       " 'k',\n",
       " 'k.1',\n",
       " 'knowledge',\n",
       " 'l',\n",
       " 'lacks',\n",
       " 'land',\n",
       " 'law',\n",
       " 'laws',\n",
       " 'legislation',\n",
       " 'lieutenant',\n",
       " 'life',\n",
       " 'limit',\n",
       " 'limitation',\n",
       " 'limits',\n",
       " 'long-term',\n",
       " 'loss',\n",
       " 'lost',\n",
       " 'm',\n",
       " 'm.0.1',\n",
       " 'm.0.2',\n",
       " 'm.1',\n",
       " 'm.1.1',\n",
       " 'm.2',\n",
       " 'm.3',\n",
       " 'm.4',\n",
       " 'm.5',\n",
       " 'majesty',\n",
       " 'making',\n",
       " 'malpractice',\n",
       " 'manner',\n",
       " 'marriage',\n",
       " 'marriages',\n",
       " 'match',\n",
       " 'matter',\n",
       " 'matters',\n",
       " 'mausoleum',\n",
       " 'meaning',\n",
       " 'means',\n",
       " 'medicine',\n",
       " 'member',\n",
       " 'method',\n",
       " 'minister',\n",
       " 'ministry',\n",
       " 'misconduct',\n",
       " 'modification',\n",
       " 'modifications',\n",
       " 'mortinaissance',\n",
       " 'mother',\n",
       " 'movement',\n",
       " 'municipal',\n",
       " 'municipality',\n",
       " 'municipalité',\n",
       " 'muscle',\n",
       " 'naissance',\n",
       " 'name',\n",
       " 'names',\n",
       " 'nature',\n",
       " 'need',\n",
       " 'neglect',\n",
       " 'neglects',\n",
       " 'negligence',\n",
       " 'new',\n",
       " 'no',\n",
       " 'notation',\n",
       " 'notations',\n",
       " 'note',\n",
       " 'nothing',\n",
       " 'notice',\n",
       " 'notices',\n",
       " 'notification',\n",
       " 'nullity',\n",
       " 'number',\n",
       " 'o',\n",
       " 'o.',\n",
       " 'oath',\n",
       " 'obligation',\n",
       " 'observance',\n",
       " 'obsolete',\n",
       " 'occurring',\n",
       " 'occurs',\n",
       " 'offence',\n",
       " 'offences',\n",
       " 'office',\n",
       " 'officer',\n",
       " 'old',\n",
       " 'omission',\n",
       " 'ongoing',\n",
       " 'ontario',\n",
       " 'open',\n",
       " 'operation',\n",
       " 'operator',\n",
       " 'opinion',\n",
       " 'opportunity',\n",
       " 'option',\n",
       " 'order',\n",
       " 'orders',\n",
       " 'ordonnance',\n",
       " 'others',\n",
       " 'outside',\n",
       " 'owner',\n",
       " 'owners',\n",
       " 'p',\n",
       " 'paper',\n",
       " 'paragraph',\n",
       " 'parent',\n",
       " 'parentage',\n",
       " 'parents',\n",
       " 'part',\n",
       " 'particulars',\n",
       " 'parties',\n",
       " 'parts',\n",
       " 'payment',\n",
       " 'penalty',\n",
       " 'period',\n",
       " 'permit',\n",
       " 'person',\n",
       " 'personne',\n",
       " 'persons',\n",
       " 'physicians',\n",
       " 'place',\n",
       " 'placenta',\n",
       " 'police',\n",
       " 'policies',\n",
       " 'port',\n",
       " 'portion',\n",
       " 'position',\n",
       " 'possession',\n",
       " 'power',\n",
       " 'powers',\n",
       " 'practices',\n",
       " 'practitioner',\n",
       " 'precautions',\n",
       " 'predecessor',\n",
       " 'preferences',\n",
       " 'pregnancy',\n",
       " 'prescribing',\n",
       " 'prescrit',\n",
       " 'prevails',\n",
       " 'privacy',\n",
       " 'proceeding',\n",
       " 'proclamation',\n",
       " 'product',\n",
       " 'production',\n",
       " 'proof',\n",
       " 'propriétaire',\n",
       " 'protection',\n",
       " 'provide',\n",
       " 'providing',\n",
       " 'province',\n",
       " 'provision',\n",
       " 'provisions',\n",
       " 'public',\n",
       " 'publication',\n",
       " 'publiques',\n",
       " 'pulsation',\n",
       " 'purporting',\n",
       " 'purports',\n",
       " 'purpose',\n",
       " 'purposes',\n",
       " 'pursuant',\n",
       " 'q',\n",
       " 'qualities',\n",
       " 'quality',\n",
       " 'r',\n",
       " 'r.1',\n",
       " 'r.2',\n",
       " 'r.s.o',\n",
       " 're',\n",
       " 'reason',\n",
       " 'reasons',\n",
       " 'receipt',\n",
       " 'reconsideration',\n",
       " 'record',\n",
       " 'record-keeping',\n",
       " 'recordkeeping',\n",
       " 'records',\n",
       " 'reference',\n",
       " 'reform',\n",
       " 'reg',\n",
       " 'regard',\n",
       " 'registraire',\n",
       " 'registrar',\n",
       " 'registrars',\n",
       " 'registration',\n",
       " 'registrations',\n",
       " 'registry',\n",
       " 'regulation',\n",
       " 'regulations',\n",
       " 'relation',\n",
       " 'religieux',\n",
       " 'removal',\n",
       " 'repeal',\n",
       " 'report',\n",
       " 'request',\n",
       " 'requests',\n",
       " 'require',\n",
       " 'requirement',\n",
       " 'requirements',\n",
       " 'respect',\n",
       " 'restriction',\n",
       " 'restrictions',\n",
       " 'result',\n",
       " 'results',\n",
       " 'retention',\n",
       " 'return',\n",
       " 'returns',\n",
       " 'review',\n",
       " 'revoke',\n",
       " 'rules',\n",
       " 'règlements',\n",
       " 's',\n",
       " 's.',\n",
       " 'safeguards',\n",
       " 'same',\n",
       " 'satisfaction',\n",
       " 'satisfactory',\n",
       " 'sched',\n",
       " 'schedule',\n",
       " 'seal',\n",
       " 'sealing',\n",
       " 'search',\n",
       " 'searches',\n",
       " 'secrecy',\n",
       " 'sect',\n",
       " 'section',\n",
       " 'sections',\n",
       " 'see',\n",
       " 'september',\n",
       " 'series',\n",
       " 'service',\n",
       " 'services',\n",
       " 'session',\n",
       " 'set',\n",
       " 'sex',\n",
       " 'share',\n",
       " 'ship',\n",
       " 'shipping',\n",
       " 'sign',\n",
       " 'signature',\n",
       " 'single',\n",
       " 'situations',\n",
       " 'society',\n",
       " 'specifies',\n",
       " 'specifying',\n",
       " 'ss',\n",
       " 'staff',\n",
       " 'state',\n",
       " 'statement',\n",
       " 'states',\n",
       " 'statistics',\n",
       " 'status',\n",
       " 'statute',\n",
       " 'statutes',\n",
       " 'still-birth',\n",
       " 'still-births',\n",
       " 'stillbirth',\n",
       " 'stillbirths',\n",
       " 'structure',\n",
       " 'sub-registrars',\n",
       " 'subdelegation',\n",
       " 'subject',\n",
       " 'submit',\n",
       " 'subsection',\n",
       " 'subsections',\n",
       " 'subsequent',\n",
       " 'substantiate',\n",
       " 'substitute',\n",
       " 'substitution',\n",
       " 'sufficiency',\n",
       " 'surgeons',\n",
       " 'surgery',\n",
       " 'surname',\n",
       " 'surnames',\n",
       " 'system',\n",
       " 'systems',\n",
       " 't',\n",
       " 'table',\n",
       " 'technology',\n",
       " 'term',\n",
       " 'terms',\n",
       " 'territory',\n",
       " 'theft',\n",
       " 'thereof',\n",
       " 'thereon',\n",
       " 'thereto',\n",
       " 'time',\n",
       " 'times',\n",
       " 'transfer',\n",
       " 'transit',\n",
       " 'transmission',\n",
       " 'transport',\n",
       " 'transportation',\n",
       " 'transsexual',\n",
       " 'uniform',\n",
       " 'united',\n",
       " 'units',\n",
       " 'unless',\n",
       " 'unsealing',\n",
       " 'use',\n",
       " 'v',\n",
       " 'v.4',\n",
       " 'vault',\n",
       " 'veto',\n",
       " 'vetoes',\n",
       " 'vital',\n",
       " 'w',\n",
       " 'waiver',\n",
       " 'warrant',\n",
       " 'way',\n",
       " 'week',\n",
       " 'weight',\n",
       " 'who',\n",
       " 'whole',\n",
       " 'wishes',\n",
       " 'withdrawal',\n",
       " 'writing',\n",
       " 'y',\n",
       " 'year',\n",
       " 'years',\n",
       " 'youth',\n",
       " 'z',\n",
       " 'z.1',\n",
       " 'état']"
      ]
     },
     "execution_count": 78,
     "metadata": {},
     "output_type": "execute_result"
    }
   ],
   "source": [
    "# use nltk library (Natural Language toolkit) \n",
    "# obtain a list of unique nouns in input text\n",
    "import nltk\n",
    "def process_law_text(input_text):\n",
    "    text_law=input_text.replace(\"\\x92\",\"'\").replace(\"\\x96\",\"-\") \\\n",
    "    .replace('\\x93','\"').replace(\"\\x94\",'\"')\n",
    "    tokens = nltk.word_tokenize(text_law)\n",
    "    tokens_tagged = nltk.pos_tag(tokens)\n",
    "    tokens_tagged_nouns=list(filter(lambda x: x[1][0]==\"N\" and x[1][1]==\"N\", tokens_tagged))\n",
    "    nouns = list( map(lambda x: x[0],tokens_tagged_nouns) )\n",
    "    nouns_lower= list(map(lambda x: x.lower(), nouns))\n",
    "    nouns_unique = list(set(nouns_lower))\n",
    "    nouns_unique.sort()\n",
    "    return nouns_unique\n",
    "\n",
    "# apply function to specific law, here Vital Statistics Act\n",
    "import pandas as pd\n",
    "df = pd.read_csv(\"elawsCorpus-output.csv\",encoding='latin-1')\n",
    "process_law_text(df.iloc[131,1])"
   ]
  },
  {
   "cell_type": "code",
   "execution_count": 63,
   "metadata": {},
   "outputs": [],
   "source": [
    "tokens = nltk.word_tokenize(text_law)\n",
    "text=nltk.Text(tokens)"
   ]
  },
  {
   "cell_type": "code",
   "execution_count": 69,
   "metadata": {},
   "outputs": [
    {
     "name": "stdout",
     "output_type": "stream",
     "text": [
      "Displaying 25 of 70 matches:\n",
      "ertificates , etc . 48 . Searches Disclosure re Adopted Persons 48.1 Disclosur\n",
      "isclosure re Adopted Persons 48.1 Disclosure to an adopted person 48.2 Disclos\n",
      "closure to an adopted person 48.2 Disclosure to a birth parent 48.3 Notice , p\n",
      "e , wish not to be contacted 48.5 Disclosure veto 48.6 Unsealing of files 48.7\n",
      "sealing of files 48.7 Review re : disclosure of adoption information Disclosur\n",
      "isclosure of adoption information Disclosure of Death Information 48.13 Disclo\n",
      "losure of Death Information 48.13 Disclosure of death information General Prov\n",
      ", Sched . 58 , s. 11 - 01/09/2016 Disclosure re Adopted Persons Disclosure to \n",
      "016 Disclosure re Adopted Persons Disclosure to an adopted person 48.1 ( 1 ) A\n",
      " years old . 2008 , c. 5 , s. 4 . Disclosure ( 3 ) Subject to subsections ( 5 \n",
      ", c. 23 , s. 27 ( 2 ) . Effect of disclosure veto ( 9 ) If there is only one b\n",
      "re is only one birth parent and a disclosure veto submitted by the birth paren\n",
      "f there are two birth parents and disclosure vetoes submitted by both birth pa\n",
      "re two birth parents and only one disclosure veto submitted by a birth parent \n",
      ") . Copy of statement ( 12 ) If a disclosure veto is in effect , the Registrar\n",
      "shall advise the applicant that a disclosure veto is in effect and give the ap\n",
      "hat may have been included in the disclosure veto under subsection 48.5 ( 7 ) \n",
      " , at the time of application , a disclosure veto has ceased to be in effect u\n",
      "hat may have been included in the disclosure veto under subsection 48.5 ( 7 ) \n",
      "ormation means information whose disclosure , alone or in combination with ot\n",
      "7 ( 1-5 ) , 34 ( 1 ) - 01/01/2017 Disclosure to a birth parent 48.2 ( 1 ) A bi\n",
      " 4 ; 2016 , c. 23 , s. 28 ( 2 ) . Disclosure ( 3 ) Subject to subsections ( 5 \n",
      " . 2008 , c. 5 , s. 4 . Effect of disclosure veto ( 7 ) If a disclosure veto s\n",
      "ect of disclosure veto ( 7 ) If a disclosure veto submitted by an adopted pers\n",
      "n under subsection ( 1 ) , if the disclosure veto does not specify a birth par\n"
     ]
    }
   ],
   "source": [
    "text.concordance(\"disclosure\")"
   ]
  },
  {
   "cell_type": "code",
   "execution_count": null,
   "metadata": {},
   "outputs": [],
   "source": []
  },
  {
   "cell_type": "code",
   "execution_count": null,
   "metadata": {},
   "outputs": [],
   "source": []
  }
 ],
 "metadata": {
  "kernelspec": {
   "display_name": "Python 3",
   "language": "python",
   "name": "python3"
  },
  "language_info": {
   "codemirror_mode": {
    "name": "ipython",
    "version": 3
   },
   "file_extension": ".py",
   "mimetype": "text/x-python",
   "name": "python",
   "nbconvert_exporter": "python",
   "pygments_lexer": "ipython3",
   "version": "3.7.1"
  }
 },
 "nbformat": 4,
 "nbformat_minor": 2
}
